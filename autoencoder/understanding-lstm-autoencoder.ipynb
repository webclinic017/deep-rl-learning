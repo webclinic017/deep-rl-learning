{
 "cells": [
  {
   "cell_type": "markdown",
   "metadata": {},
   "source": [
    "# Learning LSTM Autoencoder and LSTM Network on a simple Multivariate Timeseries Toy example"
   ]
  },
  {
   "cell_type": "code",
   "execution_count": 387,
   "metadata": {},
   "outputs": [],
   "source": [
    "# lstm autoencoder to recreate a timeseries\n",
    "import pandas as pd\n",
    "import numpy as np\n",
    "import ta\n",
    "from keras.models import Sequential\n",
    "from keras.layers import LSTM\n",
    "from keras.layers import Dense\n",
    "from keras.layers import RepeatVector\n",
    "from keras.layers import TimeDistributed\n",
    "from keras.layers import Input\n",
    "from keras.models import Model\n",
    "from keras.callbacks import EarlyStopping, ModelCheckpoint\n",
    "from sklearn.preprocessing import MinMaxScaler\n",
    "from sklearn.model_selection import train_test_split\n",
    "from sklearn.cluster import AgglomerativeClustering\n",
    "import matplotlib.pyplot as plt\n",
    "import matplotlib.colors as mcolors\n",
    "plt.rcParams['figure.figsize'] = [20, 10]"
   ]
  },
  {
   "cell_type": "code",
   "execution_count": 388,
   "metadata": {},
   "outputs": [],
   "source": [
    "'''\n",
    "A UDF to convert input data into 3-D\n",
    "array as required for LSTM network.\n",
    "'''\n",
    "\n",
    "def temporalize(X, y, lookback):\n",
    "    output_X = []\n",
    "    output_y = []\n",
    "    for i in range(len(X)-lookback-1):\n",
    "        t = []\n",
    "        for j in range(1,lookback+1):\n",
    "            # Gather past records upto the lookback period\n",
    "            t.append(X[[(i+j+1)], :])\n",
    "        output_X.append(t)\n",
    "        output_y.append(y[i+lookback+1])\n",
    "    return output_X, output_y"
   ]
  },
  {
   "cell_type": "code",
   "execution_count": 389,
   "metadata": {},
   "outputs": [
    {
     "name": "stderr",
     "output_type": "stream",
     "text": [
      "c:\\users\\thinh\\miniconda3\\envs\\p36\\lib\\site-packages\\ta\\trend.py:608: RuntimeWarning: invalid value encountered in double_scalars\n",
      "  dip[i] = 100 * (self._dip[i]/self._trs[i])\n",
      "c:\\users\\thinh\\miniconda3\\envs\\p36\\lib\\site-packages\\ta\\trend.py:612: RuntimeWarning: invalid value encountered in double_scalars\n",
      "  din[i] = 100 * (self._din[i]/self._trs[i])\n"
     ]
    },
    {
     "data": {
      "text/plain": [
       "(96292, 72)"
      ]
     },
     "execution_count": 389,
     "metadata": {},
     "output_type": "execute_result"
    }
   ],
   "source": [
    "csv_path = '../data/btc_15m.csv'\n",
    "df = pd.read_csv(csv_path, sep=',')\n",
    "# df = df.drop(columns=['quote_asset_volume', 'number_of_trades',\n",
    "#                       'buy_base_asset_volume', 'buy_quote_asset_volume', 'open_time', 'close_time', 'ignore'], axis=1)\n",
    "# df = df.drop(columns=['Adj Close', 'Date'], axis=1)\n",
    "df = ta.utils.dropna(df)\n",
    "train_data = df.copy()\n",
    "\n",
    "data = ta.add_all_ta_features(\n",
    "    train_data, open='open', high='high', low='low',\n",
    "    close='close', volume='volume', fillna=True\n",
    ")\n",
    "\n",
    "raw_price = data.close.astype('float64').values\n",
    "timeseries = data.drop(columns=['open', 'high', 'low', 'close', 'volume'], axis=1)\n",
    "scaler = MinMaxScaler(feature_range=(0, 1))\n",
    "scaler.fit(timeseries)\n",
    "timeseries = scaler.transform(timeseries)\n",
    "timesteps = timeseries.shape[0]\n",
    "n_features = timeseries.shape[1]\n",
    "timeseries.shape"
   ]
  },
  {
   "cell_type": "code",
   "execution_count": 390,
   "metadata": {},
   "outputs": [],
   "source": [
    "timesteps = 15\n",
    "X, y = temporalize(X=timeseries, y=np.zeros(len(timeseries)), lookback = timesteps)\n",
    "\n",
    "n_features = 72\n",
    "X = np.array(X)\n",
    "X = X.reshape(X.shape[0], timesteps, n_features)\n",
    "\n",
    "X_train, X_test, y_train, y_test = train_test_split(X, y, test_size=0.33, random_state=42)"
   ]
  },
  {
   "cell_type": "markdown",
   "metadata": {},
   "source": [
    "## LSTM Autoencoder"
   ]
  },
  {
   "cell_type": "code",
   "execution_count": 391,
   "metadata": {},
   "outputs": [
    {
     "name": "stdout",
     "output_type": "stream",
     "text": [
      "Model: \"model_9\"\n",
      "_________________________________________________________________\n",
      "Layer (type)                 Output Shape              Param #   \n",
      "=================================================================\n",
      "input_5 (InputLayer)         (None, 15, 72)            0         \n",
      "_________________________________________________________________\n",
      "lstm_23 (LSTM)               (None, 15, 1024)          4493312   \n",
      "_________________________________________________________________\n",
      "lstm_24 (LSTM)               (None, 15, 512)           3147776   \n",
      "_________________________________________________________________\n",
      "lstm_25 (LSTM)               (None, 128)               328192    \n",
      "_________________________________________________________________\n",
      "repeat_vector_5 (RepeatVecto (None, 15, 128)           0         \n",
      "_________________________________________________________________\n",
      "lstm_26 (LSTM)               (None, 15, 128)           131584    \n",
      "_________________________________________________________________\n",
      "lstm_27 (LSTM)               (None, 15, 512)           1312768   \n",
      "_________________________________________________________________\n",
      "lstm_28 (LSTM)               (None, 15, 1024)          6295552   \n",
      "_________________________________________________________________\n",
      "time_distributed_5 (TimeDist (None, 15, 72)            73800     \n",
      "=================================================================\n",
      "Total params: 15,782,984\n",
      "Trainable params: 15,782,984\n",
      "Non-trainable params: 0\n",
      "_________________________________________________________________\n",
      "Model: \"model_10\"\n",
      "_________________________________________________________________\n",
      "Layer (type)                 Output Shape              Param #   \n",
      "=================================================================\n",
      "input_5 (InputLayer)         (None, 15, 72)            0         \n",
      "_________________________________________________________________\n",
      "lstm_23 (LSTM)               (None, 15, 1024)          4493312   \n",
      "_________________________________________________________________\n",
      "lstm_24 (LSTM)               (None, 15, 512)           3147776   \n",
      "_________________________________________________________________\n",
      "lstm_25 (LSTM)               (None, 128)               328192    \n",
      "=================================================================\n",
      "Total params: 7,969,280\n",
      "Trainable params: 7,969,280\n",
      "Non-trainable params: 0\n",
      "_________________________________________________________________\n"
     ]
    }
   ],
   "source": [
    "# define model\n",
    "inputs = Input(shape=(timesteps, n_features))\n",
    "\n",
    "encoded = LSTM(1024, activation='relu', return_sequences=True)(inputs)\n",
    "encoded = LSTM(512, activation='relu', return_sequences=True)(encoded)\n",
    "encoded = LSTM(128, activation='relu', return_sequences=False)(encoded)\n",
    "\n",
    "decoded = RepeatVector(timesteps)(encoded)\n",
    "decoded = LSTM(128, activation='relu', return_sequences=True)(decoded)\n",
    "decoded = LSTM(512, activation='relu', return_sequences=True)(decoded)\n",
    "decoded = LSTM(1024, activation='relu', return_sequences=True)(decoded)\n",
    "decoded = TimeDistributed(Dense(n_features))(decoded)\n",
    "\n",
    "model = Model(inputs, decoded)\n",
    "model.compile(optimizer='adam', loss='mse')\n",
    "model.summary()\n",
    "\n",
    "encoder = Model(inputs, encoded)\n",
    "encoder.summary()"
   ]
  },
  {
   "cell_type": "code",
   "execution_count": null,
   "metadata": {
    "scrolled": true
   },
   "outputs": [],
   "source": [
    "# fit model\n",
    "es = EarlyStopping(monitor='val_loss', mode='min', verbose=0, patience=100)\n",
    "mc = ModelCheckpoint('models/best_model.h5', monitor='val_loss', mode='min', verbose=0)\n",
    "model.fit(X_train, X_train,\n",
    "          epochs=20000,\n",
    "          batch_size=128,\n",
    "          verbose=0, \n",
    "          validation_data=(X_test, X_test),\n",
    "          callbacks=[es, mc])"
   ]
  },
  {
   "cell_type": "code",
   "execution_count": null,
   "metadata": {},
   "outputs": [],
   "source": [
    "# demonstrate reconstruction\n",
    "yhat = model.predict(X_test, verbose=0)\n",
    "# print('---Predicted---')\n",
    "# print(np.round(yhat,3))\n",
    "# print('---Actual---')\n",
    "# print(np.round(X, 3))"
   ]
  },
  {
   "cell_type": "code",
   "execution_count": null,
   "metadata": {},
   "outputs": [],
   "source": [
    "np.round(yhat[0][0],2)"
   ]
  },
  {
   "cell_type": "code",
   "execution_count": null,
   "metadata": {
    "scrolled": true
   },
   "outputs": [],
   "source": [
    "np.round(X_test[0][0], 2)"
   ]
  },
  {
   "cell_type": "code",
   "execution_count": 44,
   "metadata": {},
   "outputs": [],
   "source": [
    "# encoder.save_weights(\"models/autoencoder_weight.h5\")\n",
    "# encoder.save(\"models/model.h5\")"
   ]
  },
  {
   "cell_type": "code",
   "execution_count": 45,
   "metadata": {},
   "outputs": [],
   "source": [
    "# from keras.models import load_model\n",
    "# saved_model = load_model(\"models/model.h5\")"
   ]
  },
  {
   "cell_type": "code",
   "execution_count": 46,
   "metadata": {},
   "outputs": [],
   "source": [
    "# yhat = saved_model.predict(X, verbose=0)\n",
    "# np.round(yhat[0][0],2)"
   ]
  },
  {
   "cell_type": "code",
   "execution_count": 345,
   "metadata": {},
   "outputs": [],
   "source": [
    "X_encoded = encoder.predict(X)\n",
    "clustering = AgglomerativeClustering(n_clusters=3).fit(X_encoded)\n",
    "# clustering.labels_"
   ]
  },
  {
   "cell_type": "code",
   "execution_count": 90,
   "metadata": {},
   "outputs": [
    {
     "data": {
      "image/png": "[encoded data removed]",
      "text/plain": [
       "<Figure size 432x288 with 1 Axes>"
      ]
     },
     "metadata": {
      "needs_background": "light"
     },
     "output_type": "display_data"
    }
   ],
   "source": [
    "indexs = [x for x,_ in enumerate(raw_price)]\n",
    "plt.plot(raw_price)\n",
    "area = 30\n",
    "for index,item in enumerate(clustering.labels_):\n",
    "    if item == 0:\n",
    "        plt.scatter(index, raw_price[index], s=area, c='red', alpha=0.5)\n",
    "    if item == 1:\n",
    "        plt.scatter(index, raw_price[index], s=area, c='green', alpha=0.5)\n",
    "    if item == 2:\n",
    "        plt.scatter(index, raw_price[index], s=area, c='blue', alpha=0.5)\n",
    "    if item == 3:\n",
    "        plt.scatter(index, raw_price[index], s=area, c='cyan', alpha=0.5)\n",
    "    if item == 4:\n",
    "        plt.scatter(index, raw_price[index], s=area, c='yellow', alpha=0.5)"
   ]
  },
  {
   "cell_type": "markdown",
   "metadata": {},
   "source": [
    "# plot mixture model clustering"
   ]
  },
  {
   "cell_type": "code",
   "execution_count": null,
   "metadata": {},
   "outputs": [],
   "source": [
    "from sklearn.mixture import GaussianMixture, BayesianGaussianMixture"
   ]
  },
  {
   "cell_type": "code",
   "execution_count": null,
   "metadata": {},
   "outputs": [],
   "source": [
    "import itertools\n",
    "from scipy import linalg\n",
    "import matplotlib as mpl\n",
    "color_iter = ['blue', 'green', 'red', 'cyan', 'magenta', 'yellow', 'white', 'violet', 'gold', 'lime']\n",
    "def plot_results(X, Y_, means, covariances, index, title):\n",
    "    splot = plt.subplot(1, 1, 1)\n",
    "    for i, (mean, covar, color) in enumerate(zip(\n",
    "            means, covariances, color_iter)):\n",
    "        v, w = linalg.eigh(covar)\n",
    "        v = 2. * np.sqrt(2.) * np.sqrt(v)\n",
    "        u = w[0] / linalg.norm(w[0])\n",
    "        # as the DP will not use every component it has access to\n",
    "        # unless it needs it, we shouldn't plot the redundant\n",
    "        # components.\n",
    "        if not np.any(Y_ == i):\n",
    "            continue\n",
    "        plt.scatter(X[Y_ == i, 0], X[Y_ == i, 1], .8, color=color)\n",
    "\n",
    "        # Plot an ellipse to show the Gaussian component\n",
    "        angle = np.arctan(u[1] / u[0])\n",
    "        angle = 180. * angle / np.pi  # convert to degrees\n",
    "        ell = mpl.patches.Ellipse(mean, v[0], v[1], 180. + angle, color=color)\n",
    "        ell.set_clip_box(splot.bbox)\n",
    "        ell.set_alpha(0.5)\n",
    "        splot.add_artist(ell)\n",
    "\n",
    "    plt.xlim(-9., 5.)\n",
    "    plt.ylim(-3., 6.)\n",
    "    plt.xticks(())\n",
    "    plt.yticks(())\n",
    "    plt.title(title)\n",
    "    plt.show()"
   ]
  },
  {
   "cell_type": "code",
   "execution_count": null,
   "metadata": {},
   "outputs": [],
   "source": [
    "from sklearn.decomposition import PCA\n",
    "pca = PCA(n_components=2)\n",
    "pca.fit(X_encoded)\n",
    "print(pca.explained_variance_ratio_)\n",
    "X_encoded_pca = pca.transform(X_encoded)"
   ]
  },
  {
   "cell_type": "code",
   "execution_count": null,
   "metadata": {},
   "outputs": [],
   "source": [
    "plt.scatter(X_encoded_pca[:, 0], X_encoded_pca[:, 1], c=clustering.labels_, s=3, cmap='viridis');"
   ]
  },
  {
   "cell_type": "code",
   "execution_count": null,
   "metadata": {
    "scrolled": false
   },
   "outputs": [],
   "source": [
    "gmm = GaussianMixture(n_components=2, random_state=42).fit(X_encoded_pca)\n",
    "plot_results(X_encoded_pca, gmm.predict(X_encoded_pca), gmm.means_, gmm.covariances_, 0, 'Gaussian Mixture')"
   ]
  },
  {
   "cell_type": "code",
   "execution_count": null,
   "metadata": {},
   "outputs": [],
   "source": [
    "dpgmm = BayesianGaussianMixture(n_components=2, random_state=42).fit(X_encoded_pca)\n",
    "plot_results(X_encoded_pca, dpgmm.predict(X_encoded_pca), dpgmm.means_, dpgmm.covariances_, 1,\n",
    "             'Bayesian Gaussian Mixture with a Dirichlet process prior')"
   ]
  },
  {
   "cell_type": "code",
   "execution_count": null,
   "metadata": {},
   "outputs": [],
   "source": [
    "start_index = 5000\n",
    "end_index = -1\n",
    "plot_data = raw_price[start_index: end_index]\n",
    "indexs = [x for x,_ in enumerate(plot_data)]\n",
    "plt.plot(indexs, plot_data)\n",
    "area = 20\n",
    "prev_label = None\n",
    "colors = ['red', 'green', 'blue', 'cyan', 'magenta', 'yellow', 'white', 'violet', 'gold', 'lime']\n",
    "labels_proba = dpgmm.predict_proba(X_encoded_pca[start_index:end_index])\n",
    "for index,item in enumerate(labels_proba):\n",
    "    cluster = np.argmax(item)\n",
    "    proba = item[cluster]\n",
    "    if proba >= 0.75 and prev_label != cluster:\n",
    "        prev_label = cluster\n",
    "        plt.scatter(index, plot_data[index], s=area, c=colors[cluster], alpha=1)"
   ]
  }
 ],
 "metadata": {
  "kernelspec": {
   "display_name": "Python 3",
   "language": "python",
   "name": "python3"
  },
  "language_info": {
   "codemirror_mode": {
    "name": "ipython",
    "version": 3
   },
   "file_extension": ".py",
   "mimetype": "text/x-python",
   "name": "python",
   "nbconvert_exporter": "python",
   "pygments_lexer": "ipython3",
   "version": "3.6.10"
  }
 },
 "nbformat": 4,
 "nbformat_minor": 2
}
